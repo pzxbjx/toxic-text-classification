{
 "cells": [
  {
   "cell_type": "markdown",
   "metadata": {},
   "source": [
    "### 导入数据"
   ]
  },
  {
   "cell_type": "code",
   "execution_count": 1,
   "metadata": {
    "collapsed": true
   },
   "outputs": [],
   "source": [
    "import numpy as np\n",
    "import pandas as pd\n",
    "\n",
    "X_train = np.load('./input/dataset_train.npy')\n",
    "X_test = np.load('./input/dataset_test.npy')\n",
    "embedding_matrix = np.load('./input/embedding_fasttext.npy')\n",
    "y_train = np.load('./input/train_labels.npy')\n",
    "y_test = np.load('./input/test_labels.npy')"
   ]
  },
  {
   "cell_type": "markdown",
   "metadata": {},
   "source": [
    "### Traditional LSTM"
   ]
  },
  {
   "cell_type": "code",
   "execution_count": 3,
   "metadata": {},
   "outputs": [
    {
     "name": "stdout",
     "output_type": "stream",
     "text": [
      "_________________________________________________________________\n",
      "Layer (type)                 Output Shape              Param #   \n",
      "=================================================================\n",
      "input_1 (InputLayer)         (None, 200)               0         \n",
      "_________________________________________________________________\n",
      "embedding_1 (Embedding)      (None, 200, 300)          6000000   \n",
      "_________________________________________________________________\n",
      "spatial_dropout1d_1 (Spatial (None, 200, 300)          0         \n",
      "_________________________________________________________________\n",
      "bidirectional_1 (Bidirection (None, 200, 100)          140400    \n",
      "_________________________________________________________________\n",
      "batch_normalization_1 (Batch (None, 200, 100)          400       \n",
      "_________________________________________________________________\n",
      "global_max_pooling1d_1 (Glob (None, 100)               0         \n",
      "_________________________________________________________________\n",
      "dense_1 (Dense)              (None, 50)                5050      \n",
      "_________________________________________________________________\n",
      "dropout_1 (Dropout)          (None, 50)                0         \n",
      "_________________________________________________________________\n",
      "dense_2 (Dense)              (None, 6)                 306       \n",
      "=================================================================\n",
      "Total params: 6,146,156\n",
      "Trainable params: 6,145,956\n",
      "Non-trainable params: 200\n",
      "_________________________________________________________________\n"
     ]
    }
   ],
   "source": [
    "length = 200\n",
    "max_features = 20000\n",
    "embed_size = 300\n",
    "from lstm import basic_lstm\n",
    "model = basic_lstm(length, max_features, embed_size, embedding_matrix)"
   ]
  },
  {
   "cell_type": "code",
   "execution_count": 4,
   "metadata": {},
   "outputs": [
    {
     "name": "stderr",
     "output_type": "stream",
     "text": [
      "D:\\Anaconda3\\envs\\py35\\lib\\site-packages\\sklearn\\model_selection\\_split.py:2010: FutureWarning: From version 0.21, test_size will always complement train_size unless both are specified.\n",
      "  FutureWarning)\n"
     ]
    },
    {
     "name": "stdout",
     "output_type": "stream",
     "text": [
      "Train on 143613 samples, validate on 15958 samples\n",
      "Epoch 1/15\n",
      "143360/143613 [============================>.] - ETA: 5s - loss: 0.0939 - acc: 0.9678 \n",
      " ROC-AUC - epoch: 1 - score: 0.977787\n",
      "Epoch 00001: val_loss improved from inf to 0.04907, saving model to ./input/LSTM/model_bst.h5\n",
      "143613/143613 [==============================] - 3291s 23ms/step - loss: 0.0939 - acc: 0.9678 - val_loss: 0.0491 - val_acc: 0.9819\n",
      "Epoch 2/15\n",
      "143360/143613 [============================>.] - ETA: 5s - loss: 0.0540 - acc: 0.9808 \n",
      " ROC-AUC - epoch: 2 - score: 0.982215\n",
      "Epoch 00002: val_loss improved from 0.04907 to 0.04718, saving model to ./input/LSTM/model_bst.h5\n",
      "143613/143613 [==============================] - 3314s 23ms/step - loss: 0.0540 - acc: 0.9808 - val_loss: 0.0472 - val_acc: 0.9821\n",
      "Epoch 3/15\n",
      "143360/143613 [============================>.] - ETA: 5s - loss: 0.0493 - acc: 0.9817 \n",
      " ROC-AUC - epoch: 3 - score: 0.983785\n",
      "Epoch 00003: val_loss improved from 0.04718 to 0.04620, saving model to ./input/LSTM/model_bst.h5\n",
      "143613/143613 [==============================] - 3392s 24ms/step - loss: 0.0493 - acc: 0.9817 - val_loss: 0.0462 - val_acc: 0.9826\n",
      "Epoch 4/15\n",
      "143360/143613 [============================>.] - ETA: 5s - loss: 0.0464 - acc: 0.9826 \n",
      " ROC-AUC - epoch: 4 - score: 0.983984\n",
      "Epoch 00004: val_loss improved from 0.04620 to 0.04607, saving model to ./input/LSTM/model_bst.h5\n",
      "143613/143613 [==============================] - 3411s 24ms/step - loss: 0.0464 - acc: 0.9826 - val_loss: 0.0461 - val_acc: 0.9825\n",
      "Epoch 5/15\n",
      "143360/143613 [============================>.] - ETA: 5s - loss: 0.0445 - acc: 0.9831 \n",
      " ROC-AUC - epoch: 5 - score: 0.984428\n",
      "Epoch 00005: val_loss improved from 0.04607 to 0.04574, saving model to ./input/LSTM/model_bst.h5\n",
      "143613/143613 [==============================] - 3387s 24ms/step - loss: 0.0445 - acc: 0.9831 - val_loss: 0.0457 - val_acc: 0.9828\n",
      "Epoch 6/15\n",
      "143360/143613 [============================>.] - ETA: 5s - loss: 0.0429 - acc: 0.9835 \n",
      " ROC-AUC - epoch: 6 - score: 0.984608\n",
      "Epoch 00006: val_loss did not improve\n",
      "143613/143613 [==============================] - 3379s 24ms/step - loss: 0.0429 - acc: 0.9834 - val_loss: 0.0466 - val_acc: 0.9827\n",
      "Epoch 7/15\n",
      "143360/143613 [============================>.] - ETA: 5s - loss: 0.0410 - acc: 0.9838 \n",
      " ROC-AUC - epoch: 7 - score: 0.984544\n",
      "Epoch 00007: val_loss did not improve\n",
      "143613/143613 [==============================] - 3397s 24ms/step - loss: 0.0410 - acc: 0.9838 - val_loss: 0.0482 - val_acc: 0.9826\n",
      "Epoch 8/15\n",
      "143360/143613 [============================>.] - ETA: 5s - loss: 0.0394 - acc: 0.9842 \n",
      " ROC-AUC - epoch: 8 - score: 0.984587\n",
      "Epoch 00008: val_loss did not improve\n",
      "143613/143613 [==============================] - 3381s 24ms/step - loss: 0.0394 - acc: 0.9842 - val_loss: 0.0493 - val_acc: 0.9827\n",
      "Epoch 9/15\n",
      "143360/143613 [============================>.] - ETA: 5s - loss: 0.0381 - acc: 0.9846 \n",
      " ROC-AUC - epoch: 9 - score: 0.984043\n",
      "Epoch 00009: val_loss did not improve\n",
      "143613/143613 [==============================] - 3381s 24ms/step - loss: 0.0381 - acc: 0.9846 - val_loss: 0.0494 - val_acc: 0.9826\n",
      "Epoch 10/15\n",
      "143360/143613 [============================>.] - ETA: 6s - loss: 0.0368 - acc: 0.9850 \n",
      " ROC-AUC - epoch: 10 - score: 0.984233\n",
      "Epoch 00010: val_loss did not improve\n",
      "143613/143613 [==============================] - 3770s 26ms/step - loss: 0.0368 - acc: 0.9850 - val_loss: 0.0510 - val_acc: 0.9826\n"
     ]
    }
   ],
   "source": [
    "from train import modeltrainer\n",
    "pth1 = './input/LSTM/model_bst.h5'\n",
    "model = modeltrainer(model, X_train, y_train, 256, 15, pth1)"
   ]
  },
  {
   "cell_type": "code",
   "execution_count": 5,
   "metadata": {},
   "outputs": [
    {
     "name": "stdout",
     "output_type": "stream",
     "text": [
      "63978/63978 [==============================] - 298s 5ms/step\n"
     ]
    }
   ],
   "source": [
    "y_pred = model.predict(X_test, batch_size=1024, verbose=1)"
   ]
  },
  {
   "cell_type": "code",
   "execution_count": 6,
   "metadata": {},
   "outputs": [
    {
     "data": {
      "text/plain": [
       "0.9760719670674948"
      ]
     },
     "execution_count": 6,
     "metadata": {},
     "output_type": "execute_result"
    }
   ],
   "source": [
    "from sklearn.metrics import roc_auc_score\n",
    "score = roc_auc_score(y_test, y_pred)\n",
    "score"
   ]
  },
  {
   "cell_type": "code",
   "execution_count": 7,
   "metadata": {},
   "outputs": [
    {
     "name": "stdout",
     "output_type": "stream",
     "text": [
      "63978/63978 [==============================] - 302s 5ms/step\n"
     ]
    }
   ],
   "source": [
    "from keras.models import load_model\n",
    "model.load_weights('./input/LSTM/model_bst.h5')\n",
    "y_pred = model.predict(X_test, batch_size=1024, verbose=1)"
   ]
  },
  {
   "cell_type": "code",
   "execution_count": 8,
   "metadata": {},
   "outputs": [
    {
     "data": {
      "text/plain": [
       "0.9772473583335124"
      ]
     },
     "execution_count": 8,
     "metadata": {},
     "output_type": "execute_result"
    }
   ],
   "source": [
    "score = roc_auc_score(y_test, y_pred)\n",
    "score"
   ]
  },
  {
   "cell_type": "markdown",
   "metadata": {},
   "source": [
    "## GRU"
   ]
  },
  {
   "cell_type": "code",
   "execution_count": 2,
   "metadata": {},
   "outputs": [
    {
     "name": "stderr",
     "output_type": "stream",
     "text": [
      "D:\\Anaconda3\\envs\\py35\\lib\\site-packages\\h5py\\__init__.py:34: FutureWarning: Conversion of the second argument of issubdtype from `float` to `np.floating` is deprecated. In future, it will be treated as `np.float64 == np.dtype(float).type`.\n",
      "  from ._conv import register_converters as _register_converters\n",
      "Using TensorFlow backend.\n"
     ]
    },
    {
     "name": "stdout",
     "output_type": "stream",
     "text": [
      "_________________________________________________________________\n",
      "Layer (type)                 Output Shape              Param #   \n",
      "=================================================================\n",
      "input_1 (InputLayer)         (None, 200)               0         \n",
      "_________________________________________________________________\n",
      "embedding_1 (Embedding)      (None, 200, 300)          6000000   \n",
      "_________________________________________________________________\n",
      "spatial_dropout1d_1 (Spatial (None, 200, 300)          0         \n",
      "_________________________________________________________________\n",
      "bidirectional_1 (Bidirection (None, 200, 160)          182880    \n",
      "_________________________________________________________________\n",
      "batch_normalization_1 (Batch (None, 200, 160)          640       \n",
      "_________________________________________________________________\n",
      "global_max_pooling1d_1 (Glob (None, 160)               0         \n",
      "_________________________________________________________________\n",
      "dense_1 (Dense)              (None, 50)                8050      \n",
      "_________________________________________________________________\n",
      "dropout_1 (Dropout)          (None, 50)                0         \n",
      "_________________________________________________________________\n",
      "dense_2 (Dense)              (None, 6)                 306       \n",
      "=================================================================\n",
      "Total params: 6,191,876\n",
      "Trainable params: 6,191,556\n",
      "Non-trainable params: 320\n",
      "_________________________________________________________________\n"
     ]
    }
   ],
   "source": [
    "length = 200\n",
    "max_features = 20000\n",
    "embed_size = 300\n",
    "from gru import basic_gru\n",
    "model = basic_gru(length, max_features, embed_size, embedding_matrix)"
   ]
  },
  {
   "cell_type": "code",
   "execution_count": 3,
   "metadata": {},
   "outputs": [
    {
     "name": "stderr",
     "output_type": "stream",
     "text": [
      "D:\\Anaconda3\\envs\\py35\\lib\\site-packages\\sklearn\\model_selection\\_split.py:2010: FutureWarning: From version 0.21, test_size will always complement train_size unless both are specified.\n",
      "  FutureWarning)\n"
     ]
    },
    {
     "name": "stdout",
     "output_type": "stream",
     "text": [
      "Train on 143613 samples, validate on 15958 samples\n",
      "Epoch 1/15\n",
      "143360/143613 [============================>.] - ETA: 6s - loss: 0.0919 - acc: 0.9702 \n",
      " ROC-AUC - epoch: 1 - score: 0.976215\n",
      "Epoch 00001: val_loss improved from inf to 0.05057, saving model to ./input/GRU/model_bst.h5\n",
      "143613/143613 [==============================] - 3614s 25ms/step - loss: 0.0918 - acc: 0.9702 - val_loss: 0.0506 - val_acc: 0.9814\n",
      "Epoch 2/15\n",
      "143360/143613 [============================>.] - ETA: 6s - loss: 0.0560 - acc: 0.9800 \n",
      " ROC-AUC - epoch: 2 - score: 0.978109\n",
      "Epoch 00002: val_loss improved from 0.05057 to 0.04836, saving model to ./input/GRU/model_bst.h5\n",
      "143613/143613 [==============================] - 3679s 26ms/step - loss: 0.0559 - acc: 0.9800 - val_loss: 0.0484 - val_acc: 0.9823\n",
      "Epoch 3/15\n",
      "143360/143613 [============================>.] - ETA: 6s - loss: 0.0508 - acc: 0.9813 \n",
      " ROC-AUC - epoch: 3 - score: 0.981477\n",
      "Epoch 00003: val_loss improved from 0.04836 to 0.04740, saving model to ./input/GRU/model_bst.h5\n",
      "143613/143613 [==============================] - 3724s 26ms/step - loss: 0.0508 - acc: 0.9813 - val_loss: 0.0474 - val_acc: 0.9825\n",
      "Epoch 4/15\n",
      "143360/143613 [============================>.] - ETA: 6s - loss: 0.0478 - acc: 0.9822 \n",
      " ROC-AUC - epoch: 4 - score: 0.983213\n",
      "Epoch 00004: val_loss improved from 0.04740 to 0.04636, saving model to ./input/GRU/model_bst.h5\n",
      "143613/143613 [==============================] - 3723s 26ms/step - loss: 0.0478 - acc: 0.9822 - val_loss: 0.0464 - val_acc: 0.9827\n",
      "Epoch 5/15\n",
      "143360/143613 [============================>.] - ETA: 6s - loss: 0.0454 - acc: 0.9826 \n",
      " ROC-AUC - epoch: 5 - score: 0.983285\n",
      "Epoch 00005: val_loss did not improve\n",
      "143613/143613 [==============================] - 3741s 26ms/step - loss: 0.0454 - acc: 0.9826 - val_loss: 0.0476 - val_acc: 0.9828\n",
      "Epoch 6/15\n",
      "143360/143613 [============================>.] - ETA: 6s - loss: 0.0434 - acc: 0.9832 \n",
      " ROC-AUC - epoch: 6 - score: 0.983505\n",
      "Epoch 00006: val_loss did not improve\n",
      "143613/143613 [==============================] - 3726s 26ms/step - loss: 0.0434 - acc: 0.9832 - val_loss: 0.0471 - val_acc: 0.9827\n",
      "Epoch 7/15\n",
      "143360/143613 [============================>.] - ETA: 6s - loss: 0.0415 - acc: 0.9837 \n",
      " ROC-AUC - epoch: 7 - score: 0.983446\n",
      "Epoch 00007: val_loss did not improve\n",
      "143613/143613 [==============================] - 3732s 26ms/step - loss: 0.0415 - acc: 0.9837 - val_loss: 0.0488 - val_acc: 0.9827\n",
      "Epoch 8/15\n",
      "143360/143613 [============================>.] - ETA: 6s - loss: 0.0401 - acc: 0.9839 \n",
      " ROC-AUC - epoch: 8 - score: 0.983588\n",
      "Epoch 00008: val_loss did not improve\n",
      "143613/143613 [==============================] - 3741s 26ms/step - loss: 0.0401 - acc: 0.9839 - val_loss: 0.0491 - val_acc: 0.9827\n",
      "Epoch 9/15\n",
      "143360/143613 [============================>.] - ETA: 6s - loss: 0.0384 - acc: 0.9846 \n",
      " ROC-AUC - epoch: 9 - score: 0.982905\n",
      "Epoch 00009: val_loss did not improve\n",
      "143613/143613 [==============================] - 3734s 26ms/step - loss: 0.0384 - acc: 0.9846 - val_loss: 0.0505 - val_acc: 0.9820\n"
     ]
    }
   ],
   "source": [
    "from train import modeltrainer\n",
    "pth2 = './input/GRU/model_bst.h5'\n",
    "model = modeltrainer(model, X_train, y_train, 256, 15, pth2)"
   ]
  },
  {
   "cell_type": "code",
   "execution_count": 4,
   "metadata": {},
   "outputs": [
    {
     "name": "stdout",
     "output_type": "stream",
     "text": [
      "63978/63978 [==============================] - 325s 5ms/step\n"
     ]
    }
   ],
   "source": [
    "from keras.models import load_model\n",
    "model.load_weights('./input/GRU/model_bst.h5')\n",
    "y_pred = model.predict(X_test, batch_size=1024, verbose=1)"
   ]
  },
  {
   "cell_type": "code",
   "execution_count": 5,
   "metadata": {},
   "outputs": [
    {
     "data": {
      "text/plain": [
       "0.975045391269533"
      ]
     },
     "execution_count": 5,
     "metadata": {},
     "output_type": "execute_result"
    }
   ],
   "source": [
    "from sklearn.metrics import roc_auc_score\n",
    "score = roc_auc_score(y_test, y_pred)\n",
    "score"
   ]
  },
  {
   "cell_type": "markdown",
   "metadata": {},
   "source": [
    "## RCNN\n",
    "\n",
    "深度学习应用于nlp后，关于文本分类衍化出了很多模型，主要分为两类：卷积神经网络和循环神经网络\n",
    "\n",
    "卷积神经网络\n",
    "- 优点：无偏的模型，利用类似于n-gram的特性学习特征提取\n",
    "- 缺点：忽略了文本上下文信息，卷积核的大小难以确定，小了丢失信息，大了参数太多\n",
    "\n",
    "循环神经网络\n",
    "- 优点：可以学习文本上下文的依赖关系\n",
    "- 缺点：有偏的模型，每个单词对模型影响不一样，靠后的词语权重大\n",
    "\n",
    "Recurrent convolutional neural network是论文《Recurrent Convolutional Neural Networks for Text Classification》中提出的深度学习模型，综合了上述两者的优点，先用RNN学习上下文时序信息，再用卷积结构学习最有效的特征，模型结构如下：\n",
    "\n",
    "![](.\\input\\RCNN\\architecture.png)\n",
    "\n",
    "RCNN主要由三部分组成：\n",
    "\n",
    "- recurrent structure（word representation learning）：对每一个输入的词$w_i$，将它对应的词向量$e(w_i)$输入到双向LSTM模块中，正向学习到上文的信息$c_l(w_i)$，反向学习到下文的信息$c_r(w_i)$，与其原本的词向量拼接形成新的词嵌入:\n",
    "\n",
    "$$ x_i = [ c_l(w_i); e(w_i); c_r(w_i) ] $$\n",
    "\n",
    "然后对这个新的词嵌入进行线性转换来代替卷积层，所有词向量共享参数，激活函数为tanh：\n",
    "\n",
    "$$ y_i^{(2)} = tanh(W^{(2)}x_i + b^{(2)}) $$\n",
    "\n",
    "- max-pooling layer(text representation learning): 最大池化提取最重要的文本特征\n",
    "\n",
    "$$ y^{(3)} = \\max \\limits_{i=1}^n y_i^{(2)} $$\n",
    "\n",
    "- output layer：最终由全连接层输出预测结果\n",
    "\n",
    "$$ y^{(4)} = W^{(4)}y^{(3)} + b^{(4)} $$\n",
    "\n",
    "原论文链接：https://www.aaai.org/ocs/index.php/AAAI/AAAI15/paper/view/9745/9552"
   ]
  },
  {
   "cell_type": "code",
   "execution_count": 2,
   "metadata": {},
   "outputs": [
    {
     "name": "stderr",
     "output_type": "stream",
     "text": [
      "D:\\Anaconda3\\envs\\py35\\lib\\site-packages\\h5py\\__init__.py:34: FutureWarning: Conversion of the second argument of issubdtype from `float` to `np.floating` is deprecated. In future, it will be treated as `np.float64 == np.dtype(float).type`.\n",
      "  from ._conv import register_converters as _register_converters\n",
      "Using TensorFlow backend.\n"
     ]
    },
    {
     "name": "stdout",
     "output_type": "stream",
     "text": [
      "__________________________________________________________________________________________________\n",
      "Layer (type)                    Output Shape         Param #     Connected to                     \n",
      "==================================================================================================\n",
      "input_1 (InputLayer)            (None, 200)          0                                            \n",
      "__________________________________________________________________________________________________\n",
      "embedding_1 (Embedding)         (None, 200, 300)     6000000     input_1[0][0]                    \n",
      "__________________________________________________________________________________________________\n",
      "spatial_dropout1d_1 (SpatialDro (None, 200, 300)     0           embedding_1[0][0]                \n",
      "__________________________________________________________________________________________________\n",
      "bidirectional_1 (Bidirectional) (None, 200, 100)     105300      spatial_dropout1d_1[0][0]        \n",
      "__________________________________________________________________________________________________\n",
      "concatenate_1 (Concatenate)     (None, 200, 400)     0           embedding_1[0][0]                \n",
      "                                                                 bidirectional_1[0][0]            \n",
      "__________________________________________________________________________________________________\n",
      "spatial_dropout1d_2 (SpatialDro (None, 200, 400)     0           concatenate_1[0][0]              \n",
      "__________________________________________________________________________________________________\n",
      "conv1d_1 (Conv1D)               (None, 198, 100)     120100      spatial_dropout1d_2[0][0]        \n",
      "__________________________________________________________________________________________________\n",
      "batch_normalization_1 (BatchNor (None, 198, 100)     400         conv1d_1[0][0]                   \n",
      "__________________________________________________________________________________________________\n",
      "global_max_pooling1d_1 (GlobalM (None, 100)          0           batch_normalization_1[0][0]      \n",
      "__________________________________________________________________________________________________\n",
      "dropout_1 (Dropout)             (None, 100)          0           global_max_pooling1d_1[0][0]     \n",
      "__________________________________________________________________________________________________\n",
      "dense_1 (Dense)                 (None, 6)            606         dropout_1[0][0]                  \n",
      "==================================================================================================\n",
      "Total params: 6,226,406\n",
      "Trainable params: 6,226,206\n",
      "Non-trainable params: 200\n",
      "__________________________________________________________________________________________________\n"
     ]
    }
   ],
   "source": [
    "length = 200\n",
    "max_features = 20000\n",
    "embed_size = 300\n",
    "from rcnn import rcnn_model\n",
    "model = rcnn_model(length, max_features, embed_size, embedding_matrix)"
   ]
  },
  {
   "cell_type": "code",
   "execution_count": 4,
   "metadata": {},
   "outputs": [
    {
     "name": "stderr",
     "output_type": "stream",
     "text": [
      "D:\\Anaconda3\\envs\\py35\\lib\\site-packages\\sklearn\\model_selection\\_split.py:2010: FutureWarning: From version 0.21, test_size will always complement train_size unless both are specified.\n",
      "  FutureWarning)\n"
     ]
    },
    {
     "name": "stdout",
     "output_type": "stream",
     "text": [
      "Train on 143613 samples, validate on 15958 samples\n",
      "Epoch 1/15\n",
      "143360/143613 [============================>.] - ETA: 5s - loss: 0.0988 - acc: 0.9688 \n",
      " ROC-AUC - epoch: 1 - score: 0.972599\n",
      "Epoch 00001: val_loss improved from inf to 0.05503, saving model to ./input/RCNN/model_bst.h5\n",
      "143613/143613 [==============================] - 3230s 22ms/step - loss: 0.0987 - acc: 0.9688 - val_loss: 0.0550 - val_acc: 0.9794\n",
      "Epoch 2/15\n",
      "143360/143613 [============================>.] - ETA: 5s - loss: 0.0572 - acc: 0.9799 \n",
      " ROC-AUC - epoch: 2 - score: 0.976091\n",
      "Epoch 00002: val_loss improved from 0.05503 to 0.05065, saving model to ./input/RCNN/model_bst.h5\n",
      "143613/143613 [==============================] - 3264s 23ms/step - loss: 0.0572 - acc: 0.9799 - val_loss: 0.0507 - val_acc: 0.9808\n",
      "Epoch 3/15\n",
      "143360/143613 [============================>.] - ETA: 5s - loss: 0.0520 - acc: 0.9813 \n",
      " ROC-AUC - epoch: 3 - score: 0.978637\n",
      "Epoch 00003: val_loss improved from 0.05065 to 0.04816, saving model to ./input/RCNN/model_bst.h5\n",
      "143613/143613 [==============================] - 3143s 22ms/step - loss: 0.0520 - acc: 0.9813 - val_loss: 0.0482 - val_acc: 0.9822\n",
      "Epoch 4/15\n",
      "143360/143613 [============================>.] - ETA: 5s - loss: 0.0488 - acc: 0.9822 \n",
      " ROC-AUC - epoch: 4 - score: 0.978727\n",
      "Epoch 00004: val_loss did not improve\n",
      "143613/143613 [==============================] - 3132s 22ms/step - loss: 0.0488 - acc: 0.9822 - val_loss: 0.0486 - val_acc: 0.9819\n",
      "Epoch 5/15\n",
      "143360/143613 [============================>.] - ETA: 5s - loss: 0.0467 - acc: 0.9828 \n",
      " ROC-AUC - epoch: 5 - score: 0.979520\n",
      "Epoch 00005: val_loss improved from 0.04816 to 0.04759, saving model to ./input/RCNN/model_bst.h5\n",
      "143613/143613 [==============================] - 3141s 22ms/step - loss: 0.0468 - acc: 0.9828 - val_loss: 0.0476 - val_acc: 0.9824\n",
      "Epoch 6/15\n",
      "143360/143613 [============================>.] - ETA: 5s - loss: 0.0449 - acc: 0.9832 \n",
      " ROC-AUC - epoch: 6 - score: 0.979452\n",
      "Epoch 00006: val_loss did not improve\n",
      "143613/143613 [==============================] - 3166s 22ms/step - loss: 0.0448 - acc: 0.9832 - val_loss: 0.0488 - val_acc: 0.9824\n",
      "Epoch 7/15\n",
      "143360/143613 [============================>.] - ETA: 5s - loss: 0.0428 - acc: 0.9834 \n",
      " ROC-AUC - epoch: 7 - score: 0.980069\n",
      "Epoch 00007: val_loss did not improve\n",
      "143613/143613 [==============================] - 3142s 22ms/step - loss: 0.0429 - acc: 0.9834 - val_loss: 0.0494 - val_acc: 0.9819\n",
      "Epoch 8/15\n",
      "143360/143613 [============================>.] - ETA: 5s - loss: 0.0416 - acc: 0.9841 \n",
      " ROC-AUC - epoch: 8 - score: 0.980192\n",
      "Epoch 00008: val_loss did not improve\n",
      "143613/143613 [==============================] - 3145s 22ms/step - loss: 0.0416 - acc: 0.9841 - val_loss: 0.0499 - val_acc: 0.9816\n",
      "Epoch 9/15\n",
      "143360/143613 [============================>.] - ETA: 5s - loss: 0.0400 - acc: 0.9845 \n",
      " ROC-AUC - epoch: 9 - score: 0.979617\n",
      "Epoch 00009: val_loss did not improve\n",
      "143613/143613 [==============================] - 3160s 22ms/step - loss: 0.0400 - acc: 0.9845 - val_loss: 0.0515 - val_acc: 0.9820\n",
      "Epoch 10/15\n",
      "143360/143613 [============================>.] - ETA: 5s - loss: 0.0386 - acc: 0.9849 \n",
      " ROC-AUC - epoch: 10 - score: 0.978743\n",
      "Epoch 00010: val_loss did not improve\n",
      "143613/143613 [==============================] - 3253s 23ms/step - loss: 0.0386 - acc: 0.9849 - val_loss: 0.0511 - val_acc: 0.9828\n"
     ]
    }
   ],
   "source": [
    "from train import modeltrainer\n",
    "pth3 = './input/RCNN/model_bst.h5'\n",
    "model = modeltrainer(model, X_train, y_train, 256, 15, pth3)"
   ]
  },
  {
   "cell_type": "code",
   "execution_count": null,
   "metadata": {
    "collapsed": true
   },
   "outputs": [],
   "source": []
  }
 ],
 "metadata": {
  "kernelspec": {
   "display_name": "Python 3",
   "language": "python",
   "name": "python3"
  },
  "language_info": {
   "codemirror_mode": {
    "name": "ipython",
    "version": 3
   },
   "file_extension": ".py",
   "mimetype": "text/x-python",
   "name": "python",
   "nbconvert_exporter": "python",
   "pygments_lexer": "ipython3",
   "version": "3.5.4"
  }
 },
 "nbformat": 4,
 "nbformat_minor": 2
}
